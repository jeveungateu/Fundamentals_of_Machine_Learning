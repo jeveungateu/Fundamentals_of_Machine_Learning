{
 "cells": [
  {
   "cell_type": "markdown",
   "id": "83eb12fc-bf49-4d2e-826f-a25ddb76d0b9",
   "metadata": {},
   "source": [
    "# Рабочая тетрадь №1 Меджидов Магомедпаша Султанович БФБО-01-22"
   ]
  },
  {
   "cell_type": "markdown",
   "id": "60fcfac8-98d2-4409-bcfb-32fb2fe850b8",
   "metadata": {
    "slideshow": {
     "slide_type": "notes"
    },
    "tags": []
   },
   "source": [
    "# Задание 1\n",
    "Приведите пример стандартных математических операций с переменной\n",
    "типа int."
   ]
  },
  {
   "cell_type": "code",
   "execution_count": 5,
   "id": "54508a2a-1e02-4434-9cb9-8f36d4368b89",
   "metadata": {},
   "outputs": [
    {
     "name": "stdout",
     "output_type": "stream",
     "text": [
      "Сложение - 90\n",
      "Вычитание - 84\n",
      "Умножение - 261\n",
      "Возведение в степень - 658503\n"
     ]
    }
   ],
   "source": [
    "num = 87\n",
    "print(\"Сложение -\", num + 3)\n",
    "print(\"Вычитание -\", num - 3)\n",
    "print(\"Умножение -\", num * 3)\n",
    "print(\"Возведение в степень -\", num ** 3)"
   ]
  },
  {
   "cell_type": "markdown",
   "id": "14d52d1f-e527-4a97-814b-5878611e09ab",
   "metadata": {},
   "source": [
    "# Задание 2\n",
    "Присвойте переменной типа int большое число (значение указать\n",
    "больше, чем значение целочисленной переменной на языках класса СИ).\n"
   ]
  },
  {
   "cell_type": "code",
   "execution_count": 7,
   "id": "7b7447a1-29d4-4835-83f8-be2bfe334f3f",
   "metadata": {},
   "outputs": [
    {
     "name": "stdout",
     "output_type": "stream",
     "text": [
      "100000000000000000130\n"
     ]
    }
   ],
   "source": [
    "num = 131\n",
    "print(num + 99999999999999999999)\n"
   ]
  },
  {
   "cell_type": "markdown",
   "id": "b0c7a7b3-1e99-4a75-a604-235643cc851e",
   "metadata": {},
   "source": [
    "# Задание 3\n",
    "Приведите пример стандартных операций с переменной типа float.\n",
    "Напишите комментарии к операциям в строке с операцией.\n",
    "Пример: af = 4.2 + 5.1 # сложение вещественных чисел.\n"
   ]
  },
  {
   "cell_type": "code",
   "execution_count": 8,
   "id": "a4e6f519-6824-4ffa-be24-e2868b68ffd0",
   "metadata": {},
   "outputs": [
    {
     "name": "stdout",
     "output_type": "stream",
     "text": [
      "4.0 -1.7999999999999998\n"
     ]
    }
   ],
   "source": [
    "num = 1.1 + 2.9 #Сложение\n",
    "num2 = 1.1 - 2.9 #Вычитание\n",
    "print(num,num2)"
   ]
  },
  {
   "cell_type": "markdown",
   "id": "6bd1b60d-e2d4-4cd7-b91c-00d2bfd3aec7",
   "metadata": {},
   "source": [
    "# Задание 4\n",
    "Приведите примеры переменных типа bool.\n",
    "У типа bool существует связь с типом int - переменная со значением True\n",
    "соответствует int'овой переменной со значением 1, а переменная со\n",
    "значением False - int'овой переменной со значением 0.\n",
    "Пример дополнить демонстрацией взаимосвязи с типом int."
   ]
  },
  {
   "cell_type": "code",
   "execution_count": 11,
   "id": "6f7e843d-8265-4f9c-bce2-49c8d29df741",
   "metadata": {},
   "outputs": [
    {
     "name": "stdout",
     "output_type": "stream",
     "text": [
      "Это false\n",
      "Это True\n"
     ]
    }
   ],
   "source": [
    "fl = False\n",
    "tr = True\n",
    "if fl == 0:\n",
    "    print(\"Это false\")\n",
    "if tr == 1:\n",
    "    print(\"Это True\")"
   ]
  },
  {
   "cell_type": "markdown",
   "id": "89972f49-3bde-48e4-be22-409624588db1",
   "metadata": {},
   "source": [
    "# Задание 5\n",
    "Присвойте переменной x значение БФБО, а переменной у номер группы и\n",
    "год поступления. Пример на конкатенацию – указать свою группу."
   ]
  },
  {
   "cell_type": "code",
   "execution_count": 13,
   "id": "318cd48e-c099-4214-b53a-cb4c3e92b496",
   "metadata": {},
   "outputs": [
    {
     "name": "stdout",
     "output_type": "stream",
     "text": [
      "БФБО-01-22\n"
     ]
    }
   ],
   "source": [
    "x = \"БФБО\"\n",
    "y = \"-01-22\"\n",
    "print(x + y)"
   ]
  },
  {
   "cell_type": "markdown",
   "id": "cb986a55-ba1f-461d-b524-7e4274ae4071",
   "metadata": {},
   "source": [
    "# Задание 6\n",
    "Введите с клавиатуры два числа, одно типа float, второе типа int. Выполните\n",
    "сложение. Определите тип данных результата."
   ]
  },
  {
   "cell_type": "code",
   "execution_count": 22,
   "id": "2fc72b34-a6ad-4df2-8fa7-18acb75525ea",
   "metadata": {},
   "outputs": [
    {
     "name": "stdin",
     "output_type": "stream",
     "text": [
      "Введите x 53\n",
      "Введите y 34.43\n"
     ]
    },
    {
     "name": "stdout",
     "output_type": "stream",
     "text": [
      "87.43 - <class 'float'> \n"
     ]
    }
   ],
   "source": [
    "x = int(input(\"Введите x\"))\n",
    "y = float(input(\"Введите y\"))\n",
    "tp = type(x+y)\n",
    "print(\"{} - {} \".format(x+y,tp))"
   ]
  },
  {
   "cell_type": "markdown",
   "id": "f0bf9847-2cc4-42f8-8e31-315853a2849a",
   "metadata": {},
   "source": [
    "# Задание 7\n",
    "Присвойте переменной n значение ФИО, а переменной nn группы.\n",
    "Приведите переменные к верхнему регистру. Выполните сложение строк.\n",
    "Выведите на печать результат сложения. Покажите, что метод не изменил\n",
    "саму переменную."
   ]
  },
  {
   "cell_type": "code",
   "execution_count": 27,
   "id": "74ba3f41-d725-4611-a84b-6a64bd306187",
   "metadata": {},
   "outputs": [
    {
     "name": "stdout",
     "output_type": "stream",
     "text": [
      "До: n - <class 'str'> nn -<class 'str'>\n",
      "После: МЕДЖИДОВ М.С БФБО-01-22 - <class 'str'>\n"
     ]
    }
   ],
   "source": [
    "n = \"Меджидов М.С \"\n",
    "nn = \"БФБО-01-22\"\n",
    "nnn = (n + nn).upper()\n",
    "print(f\"До: n - {type(n)} nn -{type(nn)}\")\n",
    "print(f\"После: {nnn} - {type(nnn)}\") "
   ]
  },
  {
   "cell_type": "markdown",
   "id": "3e9715b1-7bf0-4211-92f0-c13dca364b84",
   "metadata": {},
   "source": [
    "# Заданиие 8\n",
    "По аналогии с примером, приведите свои примеры типов данных.\n",
    "Не забудьте инициализировать переменные и определить их тип ФИО и\n",
    "группа"
   ]
  },
  {
   "cell_type": "code",
   "execution_count": 29,
   "id": "1de6fe83-b33e-42ac-bc70-baf8f876dd68",
   "metadata": {},
   "outputs": [
    {
     "name": "stdout",
     "output_type": "stream",
     "text": [
      "True | <class 'bool'> \n",
      " {8, 1, 2, 7} | <class 'set'> \n",
      " {2, 4, 5, 10, 'apple'} | <class 'set'> \n",
      " {2} | <class 'set'> \n",
      " ('Меджидов М.С', 34, 'М') | <class 'tuple'> \n",
      " type | <class 'str'> \n",
      " [1, 'title', 2, 'content'] | <class 'list'>\n"
     ]
    }
   ],
   "source": [
    "x = 5 >= 2\n",
    "A = {1, 2, 7, 8}\n",
    "B = {2, 4, 5, 10, 'apple'}\n",
    "C = A & B\n",
    "df = 'Меджидов М.С', 34, 'М'\n",
    "z = 'type'\n",
    "D = [1, 'title', 2, 'content']\n",
    "print(x, '|', type(x), '\\n', A, '|', type(A), '\\n', B, '|', type(B), '\\n', C, '|', type(C), '\\n',\n",
    "df, '|', type(df), '\\n', z, '|', type(z), '\\n', D, '|', type(D))"
   ]
  },
  {
   "cell_type": "markdown",
   "id": "95152843-9e5e-43df-8795-97727be23488",
   "metadata": {},
   "source": [
    "# Задание 9\n",
    "По аналогии с примером, приведите свои примеры задания множества.\n",
    "Множество может включать переменные разных типов. При задании\n",
    "элементов множества укажите 5 элементов типа int (два одинаковых и\n",
    "для других типов тоже), 5 - типа float, 5 - элементов типа str.\n",
    "В комментарии опишите отличие множества от массива. Укажите\n",
    "мощность множества."
   ]
  },
  {
   "cell_type": "code",
   "execution_count": 36,
   "id": "ffdfccf1-cf53-4f58-b60c-4f9004274e7c",
   "metadata": {},
   "outputs": [
    {
     "name": "stdout",
     "output_type": "stream",
     "text": [
      "{13121.1, 1, 3, 4.3, 4, 5, 'sd', 'aff', 'hhh', 'sad', 122.1, 11231.1}\n"
     ]
    }
   ],
   "source": [
    "x = {1,1,3,4,5,4.3,4.3,122.1,13121.1,11231.1,'sad','sad','sd','aff','hhh'}\n",
    "print(x)"
   ]
  },
  {
   "cell_type": "markdown",
   "id": "d269ff4d-9733-4cd5-823e-fb214d36fc50",
   "metadata": {
    "tags": []
   },
   "source": [
    "# Задание 10\n",
    "По аналогии с примерами, приведите свои варианты операций над\n",
    "множествами. Не забывайте заголовки и комментарии – это хороший тон\n",
    "в программировании."
   ]
  },
  {
   "cell_type": "code",
   "execution_count": 38,
   "id": "dce22886-3a4f-431e-8c6e-89e1a397617a",
   "metadata": {},
   "outputs": [
    {
     "name": "stdout",
     "output_type": "stream",
     "text": [
      "{True, 13123, 12, 13, 141, 31312, 'aaa', 412.1313, 13213, 5155, 41, 44, 1325, 44334, 4141, 312.13}\n",
      "set()\n",
      "{13123, 5155, 12, 1325, 44334, 13, 44}\n",
      "{True, 5155, 13123, 41, 12, 4141, 141, 44334, 31312, 1325, 13, 'aaa', 44, 312.13, 412.1313, 13213}\n"
     ]
    }
   ],
   "source": [
    "a = {44,13,13123,12,12,13,13,13,44334,5155,1325}\n",
    "b = {'aaa',13213,31312,141,41,4141,412.1313,312.13,True}\n",
    "print(a | b)#Объединение; \n",
    "print(a & b)#Пересечение; \n",
    "print(a - b)#Разность; \n",
    "print(a.symmetric_difference(b))#Симметричная разность\n",
    "\n"
   ]
  },
  {
   "cell_type": "markdown",
   "id": "b0a76f06-5ac8-4913-9c67-d5d3b49bad88",
   "metadata": {},
   "source": [
    "# Задание 11\n",
    "Задайте два множества\n",
    "Set1 = {1, 4, 5, 3, 5},\n",
    "Set2 = {4,5}.\n",
    "Примените к множеству Set2 метод .issubset(). В комментарии напишите,\n",
    "что определяет данный метод."
   ]
  },
  {
   "cell_type": "code",
   "execution_count": 43,
   "id": "4c522593-3500-409f-8dd4-a72929f5edd7",
   "metadata": {},
   "outputs": [
    {
     "name": "stdout",
     "output_type": "stream",
     "text": [
      "False\n"
     ]
    }
   ],
   "source": [
    "set_x = {1, 4, 5, 3, 5}\n",
    "set_y = {4, 5}\n",
    "# #Проверяет наличие всех элементов множества в последовательности.\n",
    "print(set_x.issubset(set_y))"
   ]
  },
  {
   "cell_type": "markdown",
   "id": "307f9941-b9ab-4c56-b8ff-86122f13138e",
   "metadata": {},
   "source": [
    "# Задание 12\n",
    "Задайте два множества. Постройте диаграммы Венна для двух множеств.\n"
   ]
  },
  {
   "cell_type": "code",
   "execution_count": 17,
   "id": "c707c291-8d3f-4456-8677-9e95d164af30",
   "metadata": {},
   "outputs": [
    {
     "data": {
      "image/png": "[encoded data removed]",
      "text/plain": [
       "<Figure size 640x480 with 1 Axes>"
      ]
     },
     "metadata": {},
     "output_type": "display_data"
    }
   ],
   "source": [
    "from matplotlib_venn import venn2, venn2_unweighted, venn2_circles, venn3, venn3_circles\n",
    "from matplotlib import pyplot as plt\n",
    "\n",
    "venn2(subsets = (40, 20,13),\n",
    "                 set_labels = ('Set A',\n",
    "                               'Set B'),\n",
    "                 set_colors = (\"black\",\n",
    "                               \"blue\"),alpha=0.7)\n",
    "plt.show()"
   ]
  },
  {
   "cell_type": "markdown",
   "id": "cb35eea4-f2a3-4564-9784-fbc0f29af756",
   "metadata": {},
   "source": [
    "# Задание 13\n",
    "Задайте три множества. Постройте диаграммы Венна для трех множеств.\n"
   ]
  },
  {
   "cell_type": "code",
   "execution_count": 26,
   "id": "225d1ce3-bf57-423f-8f26-871b18d4ffcc",
   "metadata": {},
   "outputs": [
    {
     "data": {
      "image/png": "[encoded data removed]",
      "text/plain": [
       "<Figure size 640x480 with 1 Axes>"
      ]
     },
     "metadata": {},
     "output_type": "display_data"
    }
   ],
   "source": [
    "from matplotlib_venn import venn2, venn2_unweighted, venn2_circles, venn3, venn3_circles\n",
    "from matplotlib import pyplot as plt\n",
    "set_1 = {1,2,3,4}\n",
    "set_2 = {3,4,5}\n",
    "set_3 = set_1 ^ set_2\n",
    "venn3(subsets = ([set_1,set_2,set_3]),\n",
    "                 set_colors = (\"black\",\n",
    "                               \"blue\",\n",
    "                               \"green\"),alpha=0.7)\n",
    "venn3_circles(subsets=(set_1,set_2,set_3))\n",
    "plt.show()"
   ]
  },
  {
   "cell_type": "code",
   "execution_count": null,
   "id": "d89c24b1-32e3-4680-ae78-431fa44073b4",
   "metadata": {},
   "outputs": [],
   "source": [
    "\n"
   ]
  }
 ],
 "metadata": {
  "kernelspec": {
   "display_name": "Python 3 (ipykernel)",
   "language": "python",
   "name": "python3"
  },
  "language_info": {
   "codemirror_mode": {
    "name": "ipython",
    "version": 3
   },
   "file_extension": ".py",
   "mimetype": "text/x-python",
   "name": "python",
   "nbconvert_exporter": "python",
   "pygments_lexer": "ipython3",
   "version": "3.9.0"
  }
 },
 "nbformat": 4,
 "nbformat_minor": 5
}
