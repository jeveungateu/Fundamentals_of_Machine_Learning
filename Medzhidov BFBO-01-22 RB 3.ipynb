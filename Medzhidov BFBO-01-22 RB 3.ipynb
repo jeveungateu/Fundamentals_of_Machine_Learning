{
 "cells": [
  {
   "cell_type": "markdown",
   "id": "19d169c5-9430-4c9d-9a74-1cf3f0c49370",
   "metadata": {},
   "source": [
    "# Рабочая тетрадь №3 Меджидов Магомедпаша Султановчи БФБО-01-22"
   ]
  },
  {
   "cell_type": "markdown",
   "id": "3e0cb18f",
   "metadata": {},
   "source": [
    "# Задание 1.3.1 \n"
   ]
  },
  {
   "cell_type": "markdown",
   "id": "c8355092",
   "metadata": {},
   "source": [
    "Создать 8x8 матрицу и заполнить её в шахматном порядке нулями и единицами."
   ]
  },
  {
   "cell_type": "code",
   "execution_count": 33,
   "id": "1a547399",
   "metadata": {},
   "outputs": [
    {
     "name": "stdout",
     "output_type": "stream",
     "text": [
      "[[0 1 0 1 0 1 0 1]\n",
      " [1 0 1 0 1 0 1 0]\n",
      " [0 1 0 1 0 1 0 1]\n",
      " [1 0 1 0 1 0 1 0]\n",
      " [0 1 0 1 0 1 0 1]\n",
      " [1 0 1 0 1 0 1 0]\n",
      " [0 1 0 1 0 1 0 1]\n",
      " [1 0 1 0 1 0 1 0]]\n"
     ]
    }
   ],
   "source": [
    "import numpy as np\n",
    "\n",
    "x = np.zeros((8,8),dtype=int)\n",
    "x[1::2,::2]= 1\n",
    "x[::2, 1::2]= 1\n",
    "print(x)"
   ]
  },
  {
   "cell_type": "markdown",
   "id": "9e32528b",
   "metadata": {},
   "source": [
    "# Задание 1.3.2\n",
    "\n"
   ]
  },
  {
   "cell_type": "markdown",
   "id": "a6a40f54",
   "metadata": {},
   "source": [
    "Создать 5x5 матрицу со значениями в строках от 0 до 4. Для создания\n",
    "необходимо использовать функцию arrange"
   ]
  },
  {
   "cell_type": "code",
   "execution_count": 43,
   "id": "04f27cfa",
   "metadata": {},
   "outputs": [
    {
     "name": "stdout",
     "output_type": "stream",
     "text": [
      "[[0 1 2 3 4]\n",
      " [0 1 2 3 4]\n",
      " [0 1 2 3 4]\n",
      " [0 1 2 3 4]\n",
      " [0 1 2 3 4]]\n"
     ]
    }
   ],
   "source": [
    "import numpy as np\n",
    "x = np.zeros((5,5),dtype = int) + np.arange(5)\n",
    "print(x)\n"
   ]
  },
  {
   "cell_type": "markdown",
   "id": "b0fa3c55",
   "metadata": {},
   "source": [
    "# Задание 1.3.3\n",
    "Создать массив 3x3x3 со случайными значениями\n",
    "\n"
   ]
  },
  {
   "cell_type": "code",
   "execution_count": 59,
   "id": "5bc6bf0c",
   "metadata": {},
   "outputs": [
    {
     "name": "stdout",
     "output_type": "stream",
     "text": [
      "[[[8.41654447e-01 4.32168063e-01 8.57097800e-01]\n",
      "  [6.34046323e-01 5.95915067e-04 9.75389146e-01]\n",
      "  [9.62227951e-01 9.27890239e-01 2.69043196e-01]]\n",
      "\n",
      " [[1.33272855e-01 4.24537601e-01 6.04702561e-02]\n",
      "  [3.35396578e-01 7.75494226e-01 5.11869398e-01]\n",
      "  [4.65228051e-02 7.02546321e-01 2.17541971e-01]]\n",
      "\n",
      " [[7.64345424e-01 5.29704020e-01 1.75402745e-01]\n",
      "  [8.34568008e-01 4.21790781e-01 6.43570518e-01]\n",
      "  [6.23299668e-01 7.03564276e-01 9.68510473e-01]]]\n"
     ]
    }
   ],
   "source": [
    "import numpy as np\n",
    "\n",
    "# mass = np.empty((3,3),dtype = int)\n",
    "mass = np.random.random((3,3,3))\n",
    "print(mass)"
   ]
  },
  {
   "cell_type": "markdown",
   "id": "3de257b1",
   "metadata": {},
   "source": [
    "# Задание 1.3.4\n",
    "Создать матрицу с 0 внутри, и 1 на границах"
   ]
  },
  {
   "cell_type": "code",
   "execution_count": 91,
   "id": "741a241a",
   "metadata": {},
   "outputs": [
    {
     "name": "stdout",
     "output_type": "stream",
     "text": [
      "[[1 0 0 0 0 1]\n",
      " [1 0 0 0 0 1]\n",
      " [1 0 0 0 0 1]\n",
      " [1 0 0 0 0 1]\n",
      " [1 0 0 0 0 1]]\n"
     ]
    }
   ],
   "source": [
    "import numpy as np\n",
    "\n",
    "mass = np.zeros((5,6),dtype = int)\n",
    "mass[::, 0] = 1\n",
    "mass[::, -1] = 1\n",
    "print(mass)"
   ]
  },
  {
   "cell_type": "markdown",
   "id": "fb6cdb9b",
   "metadata": {},
   "source": [
    "# Задание 1.3.5\n",
    "Создайте массив и отсортируйте его по убыванию\n"
   ]
  },
  {
   "cell_type": "code",
   "execution_count": 109,
   "id": "0615cdd9",
   "metadata": {},
   "outputs": [
    {
     "name": "stdout",
     "output_type": "stream",
     "text": [
      "[41242 12421  2131   532   123     3     3     1    -1]\n"
     ]
    }
   ],
   "source": [
    "import numpy as np\n",
    "\n",
    "# x = np.zeros((5,5),dtype = int) + np.arange(5)\n",
    "x = np.array([-1,3,532,1,3,123,2131,41242,12421])\n",
    "print(np.sort(x)[::-1])\n"
   ]
  },
  {
   "cell_type": "markdown",
   "id": "66753a03",
   "metadata": {},
   "source": [
    "# Задание 1.3.6\n",
    "Создайте матрицу, выведите ее форму, размер и размерность.\n",
    "\n"
   ]
  },
  {
   "cell_type": "code",
   "execution_count": 1,
   "id": "f11c9d2a",
   "metadata": {},
   "outputs": [
    {
     "name": "stdout",
     "output_type": "stream",
     "text": [
      "[[0 0 0 0 0 0 0 0 0 0]\n",
      " [0 0 0 0 0 0 0 0 0 0]\n",
      " [0 0 0 0 0 0 0 0 0 0]\n",
      " [0 0 0 0 0 0 0 0 0 0]\n",
      " [0 0 0 0 0 0 0 0 0 0]\n",
      " [0 0 0 0 0 0 0 0 0 0]\n",
      " [0 0 0 0 0 0 0 0 0 0]\n",
      " [0 0 0 0 0 0 0 0 0 0]\n",
      " [0 0 0 0 0 0 0 0 0 0]\n",
      " [0 0 0 0 0 0 0 0 0 0]]\n",
      "Форма: (10, 10)\n",
      "Размерность: 2\n",
      "Размер: 100\n"
     ]
    }
   ],
   "source": [
    "import numpy as np\n",
    "\n",
    "x = np.zeros((10,10),dtype = int)\n",
    "print(x)\n",
    "print('Форма: {}\\nРазмерность: {}\\nРазмер: {}'.format(x.shape,x.ndim,x.size))"
   ]
  },
  {
   "cell_type": "markdown",
   "id": "ae279249-c24e-4f7f-9e89-84305911e221",
   "metadata": {},
   "source": [
    "# Задание 2.3.1\n",
    "Найдите евклидово расстояние между двумя Series (точками) a и b,\n",
    "не используя встроенную формулу."
   ]
  },
  {
   "cell_type": "code",
   "execution_count": 10,
   "id": "32c84877-6145-41c6-a2b0-5d746afec313",
   "metadata": {},
   "outputs": [
    {
     "name": "stdout",
     "output_type": "stream",
     "text": [
      "4.242640687119285\n"
     ]
    }
   ],
   "source": [
    "from math import *\n",
    "import numpy as np\n",
    "\n",
    "distance = np.sqrt(sum(pow(a-b, 2) for a, b in zip((0,0), (3,3))))\n",
    "print(distance)"
   ]
  },
  {
   "cell_type": "markdown",
   "id": "495d56d9-b90b-4233-b6d6-b2a28301bb3e",
   "metadata": {},
   "source": [
    "# Задание 2.3.2\n",
    "Найдите в Интернете ссылку на любой csv файл и сформируйте из него\n",
    "фрейм данных (например, коллекцию фреймов данный можно найти\n",
    "здесь: https://github.com/akmand/datasets)\n"
   ]
  },
  {
   "cell_type": "code",
   "execution_count": 1,
   "id": "a65d7ad5-4f33-4051-9dd1-026c22be9d8f",
   "metadata": {},
   "outputs": [
    {
     "data": {
      "text/html": [
       "<div>\n",
       "<style scoped>\n",
       "    .dataframe tbody tr th:only-of-type {\n",
       "        vertical-align: middle;\n",
       "    }\n",
       "\n",
       "    .dataframe tbody tr th {\n",
       "        vertical-align: top;\n",
       "    }\n",
       "\n",
       "    .dataframe thead th {\n",
       "        text-align: right;\n",
       "    }\n",
       "</style>\n",
       "<table border=\"1\" class=\"dataframe\">\n",
       "  <thead>\n",
       "    <tr style=\"text-align: right;\">\n",
       "      <th></th>\n",
       "      <th>age</th>\n",
       "      <th>workclass</th>\n",
       "      <th>education_num</th>\n",
       "      <th>marital_status</th>\n",
       "      <th>occupation</th>\n",
       "      <th>relationship</th>\n",
       "      <th>race</th>\n",
       "      <th>gender</th>\n",
       "      <th>hours_per_week</th>\n",
       "      <th>native_country</th>\n",
       "      <th>capital</th>\n",
       "      <th>income_status</th>\n",
       "    </tr>\n",
       "  </thead>\n",
       "  <tbody>\n",
       "    <tr>\n",
       "      <th>0</th>\n",
       "      <td>39</td>\n",
       "      <td>State-gov</td>\n",
       "      <td>13</td>\n",
       "      <td>Never-married</td>\n",
       "      <td>Adm-clerical</td>\n",
       "      <td>Not-in-family</td>\n",
       "      <td>White</td>\n",
       "      <td>Male</td>\n",
       "      <td>40</td>\n",
       "      <td>United-States</td>\n",
       "      <td>2174</td>\n",
       "      <td>&lt;=50K</td>\n",
       "    </tr>\n",
       "    <tr>\n",
       "      <th>1</th>\n",
       "      <td>50</td>\n",
       "      <td>Self-emp-not-inc</td>\n",
       "      <td>13</td>\n",
       "      <td>Married-civ-spouse</td>\n",
       "      <td>Exec-managerial</td>\n",
       "      <td>Husband</td>\n",
       "      <td>White</td>\n",
       "      <td>Male</td>\n",
       "      <td>13</td>\n",
       "      <td>United-States</td>\n",
       "      <td>0</td>\n",
       "      <td>&lt;=50K</td>\n",
       "    </tr>\n",
       "    <tr>\n",
       "      <th>2</th>\n",
       "      <td>38</td>\n",
       "      <td>Private</td>\n",
       "      <td>9</td>\n",
       "      <td>Divorced</td>\n",
       "      <td>Handlers-cleaners</td>\n",
       "      <td>Not-in-family</td>\n",
       "      <td>White</td>\n",
       "      <td>Male</td>\n",
       "      <td>40</td>\n",
       "      <td>United-States</td>\n",
       "      <td>0</td>\n",
       "      <td>&lt;=50K</td>\n",
       "    </tr>\n",
       "    <tr>\n",
       "      <th>3</th>\n",
       "      <td>53</td>\n",
       "      <td>Private</td>\n",
       "      <td>7</td>\n",
       "      <td>Married-civ-spouse</td>\n",
       "      <td>Handlers-cleaners</td>\n",
       "      <td>Husband</td>\n",
       "      <td>Other</td>\n",
       "      <td>Male</td>\n",
       "      <td>40</td>\n",
       "      <td>United-States</td>\n",
       "      <td>0</td>\n",
       "      <td>&lt;=50K</td>\n",
       "    </tr>\n",
       "    <tr>\n",
       "      <th>4</th>\n",
       "      <td>28</td>\n",
       "      <td>Private</td>\n",
       "      <td>13</td>\n",
       "      <td>Married-civ-spouse</td>\n",
       "      <td>Prof-specialty</td>\n",
       "      <td>Wife</td>\n",
       "      <td>Other</td>\n",
       "      <td>Female</td>\n",
       "      <td>40</td>\n",
       "      <td>Other</td>\n",
       "      <td>0</td>\n",
       "      <td>&lt;=50K</td>\n",
       "    </tr>\n",
       "  </tbody>\n",
       "</table>\n",
       "</div>"
      ],
      "text/plain": [
       "   age         workclass  education_num      marital_status  \\\n",
       "0   39         State-gov             13       Never-married   \n",
       "1   50  Self-emp-not-inc             13  Married-civ-spouse   \n",
       "2   38           Private              9            Divorced   \n",
       "3   53           Private              7  Married-civ-spouse   \n",
       "4   28           Private             13  Married-civ-spouse   \n",
       "\n",
       "          occupation   relationship   race  gender  hours_per_week  \\\n",
       "0       Adm-clerical  Not-in-family  White    Male              40   \n",
       "1    Exec-managerial        Husband  White    Male              13   \n",
       "2  Handlers-cleaners  Not-in-family  White    Male              40   \n",
       "3  Handlers-cleaners        Husband  Other    Male              40   \n",
       "4     Prof-specialty           Wife  Other  Female              40   \n",
       "\n",
       "  native_country  capital income_status  \n",
       "0  United-States     2174         <=50K  \n",
       "1  United-States        0         <=50K  \n",
       "2  United-States        0         <=50K  \n",
       "3  United-States        0         <=50K  \n",
       "4          Other        0         <=50K  "
      ]
     },
     "execution_count": 1,
     "metadata": {},
     "output_type": "execute_result"
    }
   ],
   "source": [
    "import pandas as pd\n",
    "\n",
    "url = \"https://raw.githubusercontent.com/akmand/datasets/main/adult.csv\"\n",
    "\n",
    "\n",
    "dataframe = pd.read_csv(url)\n",
    "\n",
    "dataframe.head(5)"
   ]
  },
  {
   "cell_type": "markdown",
   "id": "c85ae351-42e2-4e63-b208-3a14cac98f93",
   "metadata": {},
   "source": [
    "# Задание 2.3.3\n",
    "Проделайте с получившемся из предыдущего задания фреймом\n",
    "данных те же действия, что и в примерах 2.2.5-2.2.7\n"
   ]
  },
  {
   "cell_type": "code",
   "execution_count": 3,
   "id": "f1cc6944-8765-4ce9-ab1f-6ae1b3a4c52d",
   "metadata": {},
   "outputs": [
    {
     "name": "stdout",
     "output_type": "stream",
     "text": [
      "2.2.5 -    year    name gender  count\n",
      "0  2000   Emily      F  25956\n",
      "1  2000  Hannah      F  23082\n",
      "2.2.6 -    year     name gender  count\n",
      "1  2000   Hannah      F  23082\n",
      "2  2000  Madison      F  19968\n",
      "3  2000   Ashley      F  17997\n",
      "2.2.7 -    year     name gender  count\n",
      "0  2000    Emily      F  25956\n",
      "1  2000   Hannah      F  23082\n",
      "2  2000  Madison      F  19968\n",
      "3  2000   Ashley      F  17997\n",
      "4  2000    Sarah      F  17702\n"
     ]
    }
   ],
   "source": [
    "import pandas as pd\n",
    "\n",
    "\n",
    "url = \"https://raw.githubusercontent.com/akmand/datasets/main/baby_names_2000.csv\"\n",
    "\n",
    "\n",
    "df = pd.read_csv(url)\n",
    "anls = df.head(2)\n",
    "data_loc = df.iloc[1:4]\n",
    "\n",
    "new_df = df[\n",
    "    (df['count'] > 17000)\n",
    "    ].head(5)\n",
    "\n",
    "print(f\"2.2.5 - {anls}\\n\"\n",
    "      f\"2.2.6 - {data_loc}\\n\"\n",
    "      f\"2.2.7 - {new_df}\")"
   ]
  },
  {
   "cell_type": "markdown",
   "id": "98a1dad7-339b-4c8a-9eab-84ee91811cc4",
   "metadata": {},
   "source": [
    "# Задание 3.3.2\n",
    "Загрузить фрейм данных по ссылке:\n",
    "https://raw.githubusercontent.com/akmand/datasets/master/iris.csv.\n",
    "Необходимо выполнить нормализацию первого числового признака\n",
    "(sepal_length_cm) с использованием минимаксного преобразования, а\n",
    "второго (sepal_width_cm) с задействованием z-масштабирования.\n"
   ]
  },
  {
   "cell_type": "code",
   "execution_count": 3,
   "id": "b0df105c-679f-49ae-9f2e-a973cbc350ae",
   "metadata": {},
   "outputs": [
    {
     "name": "stdout",
     "output_type": "stream",
     "text": [
      "     sepal_length_cm  sepal_width_cm  petal_length_cm  petal_width_cm  \\\n",
      "0           0.222222        1.032057              1.4             0.2   \n",
      "1           0.166667       -0.124958              1.4             0.2   \n",
      "2           0.111111        0.337848              1.3             0.2   \n",
      "3           0.083333        0.106445              1.5             0.2   \n",
      "4           0.194444        1.263460              1.4             0.2   \n",
      "..               ...             ...              ...             ...   \n",
      "145         0.666667       -0.124958              5.2             2.3   \n",
      "146         0.555556       -1.281972              5.0             1.9   \n",
      "147         0.611111       -0.124958              5.2             2.0   \n",
      "148         0.527778        0.800654              5.4             2.3   \n",
      "149         0.444444       -0.124958              5.1             1.8   \n",
      "\n",
      "       species  \n",
      "0       setosa  \n",
      "1       setosa  \n",
      "2       setosa  \n",
      "3       setosa  \n",
      "4       setosa  \n",
      "..         ...  \n",
      "145  virginica  \n",
      "146  virginica  \n",
      "147  virginica  \n",
      "148  virginica  \n",
      "149  virginica  \n",
      "\n",
      "[150 rows x 5 columns]\n"
     ]
    }
   ],
   "source": [
    "import pandas as pd\n",
    "from sklearn import preprocessing\n",
    "\n",
    "url = 'https://raw.githubusercontent.com/akmand/datasets/master/iris.csv'\n",
    "df = pd.read_csv(url)\n",
    "scaler_minmax = preprocessing.MinMaxScaler()\n",
    "scaler_z = preprocessing.StandardScaler()\n",
    "\n",
    "df['sepal_length_cm'] = scaler_minmax.fit_transform(df[['sepal_length_cm']])\n",
    "df['sepal_width_cm'] = scaler_z.fit_transform(df[['sepal_width_cm']])\n",
    "print(df)\n"
   ]
  },
  {
   "cell_type": "code",
   "execution_count": null,
   "id": "77582f07-b9a4-4d8f-8cd7-f6511e108669",
   "metadata": {},
   "outputs": [],
   "source": []
  }
 ],
 "metadata": {
  "kernelspec": {
   "display_name": "Python 3 (ipykernel)",
   "language": "python",
   "name": "python3"
  },
  "language_info": {
   "codemirror_mode": {
    "name": "ipython",
    "version": 3
   },
   "file_extension": ".py",
   "mimetype": "text/x-python",
   "name": "python",
   "nbconvert_exporter": "python",
   "pygments_lexer": "ipython3",
   "version": "3.9.0"
  }
 },
 "nbformat": 4,
 "nbformat_minor": 5
}
